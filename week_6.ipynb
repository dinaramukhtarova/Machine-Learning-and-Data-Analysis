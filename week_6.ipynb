{
 "cells": [
  {
   "cell_type": "markdown",
   "metadata": {},
   "source": [
    "Сначала построим нашу модель."
   ]
  },
  {
   "cell_type": "code",
   "execution_count": 1,
   "metadata": {
    "collapsed": true
   },
   "outputs": [],
   "source": [
    "import pandas as pd\n",
    "import numpy as np"
   ]
  },
  {
   "cell_type": "code",
   "execution_count": 2,
   "metadata": {
    "collapsed": true
   },
   "outputs": [],
   "source": [
    "train = pd.read_csv('orange_small_churn_train_data.csv', index_col = 0)"
   ]
  },
  {
   "cell_type": "code",
   "execution_count": 3,
   "metadata": {
    "collapsed": true
   },
   "outputs": [],
   "source": [
    "numeric_columns = np.array(train.columns[:190])\n",
    "categorical_columns = np.array(train.columns[190:230])"
   ]
  },
  {
   "cell_type": "code",
   "execution_count": 4,
   "metadata": {
    "collapsed": true
   },
   "outputs": [],
   "source": [
    "not_null_numeric_columns = np.array(numeric_columns[np.array(pd.notnull(train[numeric_columns]).any())])\n",
    "not_null_categorical_columns = np.array(categorical_columns[np.array(pd.notnull(train[categorical_columns]).any())])"
   ]
  },
  {
   "cell_type": "code",
   "execution_count": 5,
   "metadata": {
    "collapsed": true
   },
   "outputs": [],
   "source": [
    "train_numeric = train[not_null_numeric_columns]\n",
    "train_categorical = train[not_null_categorical_columns]\n",
    "y_train = train['labels']"
   ]
  },
  {
   "cell_type": "code",
   "execution_count": 6,
   "metadata": {
    "collapsed": true
   },
   "outputs": [],
   "source": [
    "train_numeric = train_numeric.fillna(train_numeric.mean(0), axis = 0)\n",
    "train_categorical = train_categorical.fillna('NA')"
   ]
  },
  {
   "cell_type": "code",
   "execution_count": 7,
   "metadata": {
    "collapsed": true
   },
   "outputs": [],
   "source": [
    "for var in not_null_categorical_columns:\n",
    "    value_counts = train_categorical[var].value_counts()\n",
    "    train_categorical[var] = np.array([value_counts[x] for x in train_categorical[var]])"
   ]
  },
  {
   "cell_type": "code",
   "execution_count": 8,
   "metadata": {
    "collapsed": true
   },
   "outputs": [],
   "source": [
    "X_train = pd.concat([train_numeric, train_categorical], axis = 1)"
   ]
  },
  {
   "cell_type": "code",
   "execution_count": 9,
   "metadata": {
    "collapsed": true
   },
   "outputs": [],
   "source": [
    "from sklearn.feature_selection import VarianceThreshold\n",
    "X_train = VarianceThreshold().fit_transform(X_train)"
   ]
  },
  {
   "cell_type": "code",
   "execution_count": 10,
   "metadata": {
    "collapsed": true
   },
   "outputs": [],
   "source": [
    "from sklearn.feature_selection import SelectKBest\n",
    "X_train = SelectKBest(k = 40).fit_transform(X_train, y_train)"
   ]
  },
  {
   "cell_type": "code",
   "execution_count": 11,
   "metadata": {
    "collapsed": true
   },
   "outputs": [],
   "source": [
    "import xgboost as xgb\n",
    "xgb_clf = xgb.XGBClassifier()\n",
    "xgb_clf.fit(X_train, y_train)\n",
    "y_predictions = xgb_clf.predict(X_train)\n",
    "y_probabilities = xgb_clf.predict_proba(X_train)[:, 1]"
   ]
  },
  {
   "cell_type": "markdown",
   "metadata": {},
   "source": [
    "Выберем только тех пользователей, которых наша модель предсказала как склонных к оттоку, и запишем в переменную `true_values` настоящие ответы на этих пользователях."
   ]
  },
  {
   "cell_type": "code",
   "execution_count": 12,
   "metadata": {
    "collapsed": false
   },
   "outputs": [],
   "source": [
    "labels = pd.DataFrame({'prediction' : y_predictions, 'probability' : y_probabilities, 'true_value' : np.array(y_train)})"
   ]
  },
  {
   "cell_type": "code",
   "execution_count": 13,
   "metadata": {
    "collapsed": false
   },
   "outputs": [],
   "source": [
    "churn_predicted = labels[labels.prediction == 1].sort_values('probability', ascending = False).reset_index(drop = True)"
   ]
  },
  {
   "cell_type": "code",
   "execution_count": 14,
   "metadata": {
    "collapsed": false
   },
   "outputs": [],
   "source": [
    "true_values = np.array(churn_predicted.true_value)"
   ]
  },
  {
   "cell_type": "markdown",
   "metadata": {},
   "source": [
    "Введём следующие параметры:\n",
    "- количество денег, которое в среднем приносит один пользователь в месяц = 1000\n",
    "- количество денег, которое в среднем мы будем вкладывать в удержание одного пользователя = 100\n",
    "- вероятность, с которой пользователь примет наше предложение = 0.3\n",
    "- количество пользователей, которое будет участвовать в кампании = топ 25% пользователей, склонных к оттоку согласно модели"
   ]
  },
  {
   "cell_type": "markdown",
   "metadata": {},
   "source": [
    "1\\. Введите еще несколько параметров и на их основе постройте простую экономическую модель: формулу по которой в зависимости от значения исходных параметров вы сможете рассчитать экономический эффект от проведения кампании (= сколько денег вы получили (или наоборот потеряли) от проведения кампании по удержанию) с использование вашей модели."
   ]
  },
  {
   "cell_type": "markdown",
   "metadata": {},
   "source": [
    "Построим формулу для подсчёта экономического эффекта."
   ]
  },
  {
   "cell_type": "markdown",
   "metadata": {},
   "source": [
    "\\begin{equation*}\n",
    "\\text{effect} = \\text{number of accepted} \\times \\text{ARPU} - \\text{number of users} \\times \\text{retention cost}\n",
    "\\end{equation*}"
   ]
  },
  {
   "cell_type": "markdown",
   "metadata": {},
   "source": [
    "Здесь\n",
    "effect - экономический эффект,\n",
    "number of accepted - количество пользователей, действительно склонных к оттоку, которые примут наше предложение,\n",
    "ARPU - количество денег, которое в среднем приносит один пользователь в месяц,\n",
    "number of users - количество пользователей, которое будет участвовать в кампании,\n",
    "retention cost - количество денег, которое в среднем мы будем вкладывать в удержание одного пользователя."
   ]
  },
  {
   "cell_type": "code",
   "execution_count": 21,
   "metadata": {
    "collapsed": true
   },
   "outputs": [],
   "source": [
    "def effect(arpu, retention_cost, probability, top):\n",
    "    number_of_users = int(np.floor(top * len(true_values)))\n",
    "    number_of_churned = sum(true_values[:number_of_users] == 1)\n",
    "    number_of_accepted = int(np.floor(probability * number_of_churned))\n",
    "    cost = number_of_users * retention_cost\n",
    "    income = number_of_accepted * arpu\n",
    "    return income - cost"
   ]
  },
  {
   "cell_type": "code",
   "execution_count": 22,
   "metadata": {
    "collapsed": false
   },
   "outputs": [
    {
     "data": {
      "text/plain": [
       "2100"
      ]
     },
     "execution_count": 22,
     "metadata": {},
     "output_type": "execute_result"
    }
   ],
   "source": [
    "effect(1000, 100, 0.3, 0.25)"
   ]
  },
  {
   "cell_type": "markdown",
   "metadata": {},
   "source": [
    "При заданных параметрах экономический эффект равен 2100."
   ]
  },
  {
   "cell_type": "markdown",
   "metadata": {},
   "source": [
    "2\\. Исходя из введенных параметров проанализируйте, какой топ пользователей, склонных к оттоку согласно модели, оптимально выбрать для проведения кампании по удержанию для таким образом, чтобы экономический эффект был наибольшим?"
   ]
  },
  {
   "cell_type": "code",
   "execution_count": 23,
   "metadata": {
    "collapsed": false
   },
   "outputs": [
    {
     "data": {
      "text/plain": [
       "array([  9.40000000e+03,   9.90000000e-01])"
      ]
     },
     "execution_count": 23,
     "metadata": {},
     "output_type": "execute_result"
    }
   ],
   "source": [
    "effects = np.array([[effect(1000, 100, 0.3, top), top] for top in np.arange(0, 1.01, 0.01)])\n",
    "effects[effects[:, 0].argsort()][-1]"
   ]
  },
  {
   "cell_type": "markdown",
   "metadata": {},
   "source": [
    "Оптимальный топ - 99%. Экономический эффект при нём равен 9400."
   ]
  },
  {
   "cell_type": "markdown",
   "metadata": {
    "collapsed": true
   },
   "source": [
    "3\\. Попробуйте усложнить экономическую модель. Добавьте еще несколько параметров и поиграйте с ними (например, измените стоимость удержания и вероятность, с которой пользователь принимает предложение), проанализируйте как меняется оптимальный размер топа?"
   ]
  },
  {
   "cell_type": "markdown",
   "metadata": {},
   "source": [
    "Введём ещё один дополнительный параметр time - количество времени, на которое нам в среднем удастся удержать клиента, если он примет наше предложение = 3 месяца."
   ]
  },
  {
   "cell_type": "markdown",
   "metadata": {},
   "source": [
    "Тогда формула для подсчёта экономического эффекта примет вид"
   ]
  },
  {
   "cell_type": "markdown",
   "metadata": {},
   "source": [
    "\\begin{equation*}\n",
    "\\text{effect} = \\text{number of accepted} \\times \\text{ARPU} \\times \\text{time} - \\text{number of users} \\times \\text{retention cost}\n",
    "\\end{equation*}"
   ]
  },
  {
   "cell_type": "code",
   "execution_count": 24,
   "metadata": {
    "collapsed": true
   },
   "outputs": [],
   "source": [
    "def effect(arpu, retention_cost, probability, top, time):\n",
    "    number_of_users = int(np.floor(top * len(true_values)))\n",
    "    number_of_churned = sum(true_values[:number_of_users] == 1)\n",
    "    number_of_accepted = int(np.floor(probability * number_of_churned))\n",
    "    cost = number_of_users * retention_cost\n",
    "    income = number_of_accepted * arpu * time\n",
    "    return income - cost"
   ]
  },
  {
   "cell_type": "code",
   "execution_count": 25,
   "metadata": {
    "collapsed": true
   },
   "outputs": [],
   "source": [
    "import matplotlib.pyplot as plt\n",
    "%matplotlib inline"
   ]
  },
  {
   "cell_type": "markdown",
   "metadata": {},
   "source": [
    "Построим график изменения оптимального размера топа в зависимости от стоимости удержания."
   ]
  },
  {
   "cell_type": "code",
   "execution_count": 28,
   "metadata": {
    "collapsed": false
   },
   "outputs": [
    {
     "data": {
      "image/png": "[encoded data removed]",
      "text/plain": [
       "<matplotlib.figure.Figure at 0x12171bd50>"
      ]
     },
     "metadata": {},
     "output_type": "display_data"
    }
   ],
   "source": [
    "retention_costs = np.arange(100, 1000, 100)\n",
    "tops = []\n",
    "for retention_cost in retention_costs:\n",
    "    effects = np.array([[effect(1000, retention_cost, 0.3, top, 3), top] for top in np.arange(0, 1.01, 0.01)])\n",
    "    tops.append(effects[effects[:, 0].argsort()][-1][1])\n",
    "tops = np.array(tops)\n",
    "plt.figure()\n",
    "plt.xlabel('Retention cost')\n",
    "plt.ylabel('Top')\n",
    "plt.grid()\n",
    "plt.plot(retention_costs, tops, 'o-')\n",
    "plt.show()"
   ]
  },
  {
   "cell_type": "markdown",
   "metadata": {},
   "source": [
    "Видим, что чем выше стоимость удержания, тем меньше оптимальный размер топа, что логично."
   ]
  },
  {
   "cell_type": "markdown",
   "metadata": {},
   "source": [
    "Построим график изменения оптимального размера топа в зависимости от вероятности, с которой пользователь принимает предложение."
   ]
  },
  {
   "cell_type": "code",
   "execution_count": 29,
   "metadata": {
    "collapsed": false
   },
   "outputs": [
    {
     "data": {
      "image/png": "[encoded data removed]",
      "text/plain": [
       "<matplotlib.figure.Figure at 0x122f05ad0>"
      ]
     },
     "metadata": {},
     "output_type": "display_data"
    }
   ],
   "source": [
    "probabilities = np.arange(0.05, 1.05, 0.05)\n",
    "tops = []\n",
    "for probability in probabilities:\n",
    "    effects = np.array([[effect(1000, 100, probability, top, 3), top] for top in np.arange(0, 1.01, 0.01)])\n",
    "    tops.append(effects[effects[:, 0].argsort()][-1][1])\n",
    "tops = np.array(tops)\n",
    "plt.figure()\n",
    "plt.xlabel('Probability')\n",
    "plt.ylabel('Top')\n",
    "plt.grid()\n",
    "plt.plot(probabilities, tops, 'o-')\n",
    "plt.show()"
   ]
  },
  {
   "cell_type": "markdown",
   "metadata": {},
   "source": [
    "Видим, что чем выше вероятность, с которой пользователь принимает предложение, тем больше оптимальный размер топа, что логично."
   ]
  },
  {
   "cell_type": "markdown",
   "metadata": {},
   "source": [
    "4\\. Всегда ли применение модели экономически оправданно? Приведите пример набора значений параметров, при которых применение модели перестает быть оправданным."
   ]
  },
  {
   "cell_type": "markdown",
   "metadata": {},
   "source": [
    "Нет, не всегда. Применение модели не оправдано, когда доход с одного пользователя низкий (к примеру, 500), а стоимость удержания высокая (к примеру, 1000)."
   ]
  },
  {
   "cell_type": "code",
   "execution_count": 33,
   "metadata": {
    "collapsed": false
   },
   "outputs": [
    {
     "data": {
      "text/plain": [
       "-13000"
      ]
     },
     "execution_count": 33,
     "metadata": {},
     "output_type": "execute_result"
    }
   ],
   "source": [
    "effect(500, 1000, 0.3, 0.25, 3)"
   ]
  },
  {
   "cell_type": "markdown",
   "metadata": {},
   "source": [
    "Видим, что экономический эффект при этом уходит в минус, т.е. затраты становятся больше, чем доходы."
   ]
  },
  {
   "cell_type": "markdown",
   "metadata": {},
   "source": [
    "5\\. Оцените изменение экономического эффекта от проведения кампании по удержанию при увеличении качества модели на 1%? На 3%? При ответе на вопрос укажите, по какой метрике вы оцениваете качество."
   ]
  },
  {
   "cell_type": "markdown",
   "metadata": {},
   "source": [
    "Будем оценивать качество по метрике precision. Посчитаем её вручную, как количество true positives, разделённое на количество positives."
   ]
  },
  {
   "cell_type": "code",
   "execution_count": 34,
   "metadata": {
    "collapsed": false
   },
   "outputs": [
    {
     "name": "stdout",
     "output_type": "stream",
     "text": [
      "True positives:  58\n",
      "Positives:  77\n",
      "Precision:  0.753246753247\n"
     ]
    }
   ],
   "source": [
    "true_positives_original = sum(true_values == 1)\n",
    "positives = len(true_values)\n",
    "precision = float(true_positives_original)/positives\n",
    "print 'True positives: ', true_positives_original\n",
    "print 'Positives: ', positives\n",
    "print 'Precision: ', precision"
   ]
  },
  {
   "cell_type": "markdown",
   "metadata": {},
   "source": [
    "Увеличивая качество модели, будем считать, что количество positives остаётся прежним, а количество true positives увеличивается."
   ]
  },
  {
   "cell_type": "code",
   "execution_count": 35,
   "metadata": {
    "collapsed": false
   },
   "outputs": [
    {
     "name": "stdout",
     "output_type": "stream",
     "text": [
      "True positives при увеличении качества на 1%:  59\n"
     ]
    }
   ],
   "source": [
    "true_positives_one_percent = int(round((precision * 1.01) * positives))\n",
    "print 'True positives при увеличении качества на 1%: ', true_positives_one_percent"
   ]
  },
  {
   "cell_type": "code",
   "execution_count": 36,
   "metadata": {
    "collapsed": false
   },
   "outputs": [
    {
     "name": "stdout",
     "output_type": "stream",
     "text": [
      "True positives при увеличении качества на 2%:  59\n"
     ]
    }
   ],
   "source": [
    "true_positives_two_percent = int(round((precision * 1.02) * positives))\n",
    "print 'True positives при увеличении качества на 2%: ', true_positives_two_percent"
   ]
  },
  {
   "cell_type": "code",
   "execution_count": 37,
   "metadata": {
    "collapsed": false
   },
   "outputs": [
    {
     "name": "stdout",
     "output_type": "stream",
     "text": [
      "True positives при увеличении качества на 3%:  60\n"
     ]
    }
   ],
   "source": [
    "true_positives_three_percent = int(round((precision * 1.03) * positives))\n",
    "print 'True positives при увеличении качества на 3%: ', true_positives_three_percent"
   ]
  },
  {
   "cell_type": "markdown",
   "metadata": {},
   "source": [
    "Для удобства подсчёта введём новую формулу для расчёта экономического эффекта, в которой будем считать, что мы всегда берём топ 100% пользователей, склонных к оттоку согласно модели."
   ]
  },
  {
   "cell_type": "code",
   "execution_count": 38,
   "metadata": {
    "collapsed": true
   },
   "outputs": [],
   "source": [
    "def effect_2(arpu, retention_cost, probability, time, true_positives):\n",
    "    number_of_accepted = int(np.floor(probability * true_positives))\n",
    "    cost = positives * retention_cost\n",
    "    income = number_of_accepted * arpu * time\n",
    "    return income - cost"
   ]
  },
  {
   "cell_type": "markdown",
   "metadata": {},
   "source": [
    "Посчтитаем экономический эффект для оригинальной модели и моделей, качество которых увеличено на 1%, 2% и 3%."
   ]
  },
  {
   "cell_type": "code",
   "execution_count": 39,
   "metadata": {
    "collapsed": false
   },
   "outputs": [
    {
     "name": "stdout",
     "output_type": "stream",
     "text": [
      "58 : 43300\n",
      "59 : 43300\n",
      "59 : 43300\n",
      "60 : 46300\n"
     ]
    }
   ],
   "source": [
    "for true_positives in (true_positives_original, true_positives_one_percent, true_positives_two_percent,\n",
    "                       true_positives_three_percent):\n",
    "    print true_positives, ':', effect_2(1000, 100, 0.3, 3, true_positives)"
   ]
  },
  {
   "cell_type": "markdown",
   "metadata": {},
   "source": [
    "Видим, что при увеличении качества модели на 1% и 2% экономический эффект остаётся прежним, а при увеличении на 3% увеличивается на 3000."
   ]
  },
  {
   "cell_type": "markdown",
   "metadata": {},
   "source": [
    "6\\. Как вы думаете, является ли экономически оправданным вложение средств в улучшение качества модели? На сколько нужно улучшить модель, чтобы это качественно сказалось на экономическом эффекте от удержания?"
   ]
  },
  {
   "cell_type": "markdown",
   "metadata": {},
   "source": [
    "Вложение средств в увеличение качества модели является экономически оправданным, если увеличение экономического эффекта больше, чем количество средств, которое мы вкладываем. Как показал эксперимент выше, качество модели нужно увеличить хотя бы на 3%, чтобы это сказалось на экономическом эффекте."
   ]
  },
  {
   "cell_type": "code",
   "execution_count": null,
   "metadata": {
    "collapsed": true
   },
   "outputs": [],
   "source": []
  }
 ],
 "metadata": {
  "anaconda-cloud": {},
  "kernelspec": {
   "display_name": "Python [conda root]",
   "language": "python",
   "name": "conda-root-py"
  },
  "language_info": {
   "codemirror_mode": {
    "name": "ipython",
    "version": 2
   },
   "file_extension": ".py",
   "mimetype": "text/x-python",
   "name": "python",
   "nbconvert_exporter": "python",
   "pygments_lexer": "ipython2",
   "version": "2.7.12"
  }
 },
 "nbformat": 4,
 "nbformat_minor": 1
}
