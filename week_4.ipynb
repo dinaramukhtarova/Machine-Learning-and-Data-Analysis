{
 "cells": [
  {
   "cell_type": "code",
   "execution_count": 1,
   "metadata": {
    "collapsed": true
   },
   "outputs": [],
   "source": [
    "import pandas as pd\n",
    "import numpy as np"
   ]
  },
  {
   "cell_type": "markdown",
   "metadata": {},
   "source": [
    "Загрузим выборки."
   ]
  },
  {
   "cell_type": "code",
   "execution_count": 2,
   "metadata": {
    "collapsed": true
   },
   "outputs": [],
   "source": [
    "train = pd.read_csv('orange_small_churn_train_data.csv', index_col = 0)\n",
    "X_test = pd.read_csv('orange_small_churn_test_data.csv', index_col = 0)"
   ]
  },
  {
   "cell_type": "code",
   "execution_count": 3,
   "metadata": {
    "collapsed": true
   },
   "outputs": [],
   "source": [
    "numeric_columns = np.array(train.columns[:190])\n",
    "categorical_columns = np.array(train.columns[190:230])"
   ]
  },
  {
   "cell_type": "markdown",
   "metadata": {},
   "source": [
    "Для построения модели выберем только те переменные, в которых есть хотя бы одно значение, не равное NaN."
   ]
  },
  {
   "cell_type": "code",
   "execution_count": 4,
   "metadata": {
    "collapsed": true
   },
   "outputs": [],
   "source": [
    "not_null_numeric_columns = np.array(numeric_columns[np.array(pd.notnull(train[numeric_columns]).any())])"
   ]
  },
  {
   "cell_type": "code",
   "execution_count": 5,
   "metadata": {
    "collapsed": true
   },
   "outputs": [],
   "source": [
    "not_null_categorical_columns = np.array(categorical_columns[np.array(pd.notnull(train[categorical_columns]).any())])"
   ]
  },
  {
   "cell_type": "markdown",
   "metadata": {},
   "source": [
    "Для упрощения модели выберем только те категориальные признаки, в которых не больше ста различных значений."
   ]
  },
  {
   "cell_type": "code",
   "execution_count": 6,
   "metadata": {
    "collapsed": false
   },
   "outputs": [],
   "source": [
    "categorical_less_or_equal_100 = []\n",
    "for var in not_null_categorical_columns:\n",
    "    if len(train[var].unique()) <= 100:\n",
    "        categorical_less_or_equal_100.append(var)\n",
    "categorical_less_or_equal_100 = np.array(categorical_less_or_equal_100)"
   ]
  },
  {
   "cell_type": "code",
   "execution_count": 7,
   "metadata": {
    "collapsed": false
   },
   "outputs": [],
   "source": [
    "train_numeric = train[not_null_numeric_columns]\n",
    "train_categorical = train[categorical_less_or_equal_100]\n",
    "y_train = train['labels']\n",
    "test_numeric = X_test[not_null_numeric_columns]\n",
    "test_categorical = X_test[categorical_less_or_equal_100]"
   ]
  },
  {
   "cell_type": "markdown",
   "metadata": {},
   "source": [
    "Заполним пропущенные значения."
   ]
  },
  {
   "cell_type": "code",
   "execution_count": 8,
   "metadata": {
    "collapsed": true
   },
   "outputs": [],
   "source": [
    "train_numeric = train_numeric.fillna(0)\n",
    "train_categorical = train_categorical.fillna('NA')\n",
    "test_numeric = test_numeric.fillna(0)\n",
    "test_categorical = test_categorical.fillna('NA')"
   ]
  },
  {
   "cell_type": "markdown",
   "metadata": {},
   "source": [
    "Применим к категориальным данным one-hot encoding с помощью DictVectorizer."
   ]
  },
  {
   "cell_type": "code",
   "execution_count": 9,
   "metadata": {
    "collapsed": true
   },
   "outputs": [],
   "source": [
    "from sklearn.feature_extraction import DictVectorizer"
   ]
  },
  {
   "cell_type": "code",
   "execution_count": 10,
   "metadata": {
    "collapsed": true
   },
   "outputs": [],
   "source": [
    "dv = DictVectorizer(sparse = False)\n",
    "train_categorical = dv.fit_transform(train_categorical.T.to_dict().values())\n",
    "test_categorical = dv.transform(test_categorical.T.to_dict().values())"
   ]
  },
  {
   "cell_type": "markdown",
   "metadata": {},
   "source": [
    "К каждому признаку добавим дополнительный признак с индикатором того, пропущено значение или нет."
   ]
  },
  {
   "cell_type": "code",
   "execution_count": 11,
   "metadata": {
    "collapsed": false
   },
   "outputs": [],
   "source": [
    "train_numeric_is_na = pd.isnull(train[not_null_numeric_columns]).astype(int)\n",
    "train_categorical_is_na = pd.isnull(train[not_null_categorical_columns]).astype(int)\n",
    "test_numeric_is_na = pd.isnull(X_test[not_null_numeric_columns]).astype(int)\n",
    "test_categorical_is_na = pd.isnull(X_test[not_null_categorical_columns]).astype(int)"
   ]
  },
  {
   "cell_type": "code",
   "execution_count": 12,
   "metadata": {
    "collapsed": true
   },
   "outputs": [],
   "source": [
    "X_train = np.hstack((train_numeric, train_categorical, train_numeric_is_na, train_categorical_is_na))\n",
    "X_test = np.hstack((test_numeric, test_categorical, test_numeric_is_na, test_categorical_is_na))"
   ]
  },
  {
   "cell_type": "code",
   "execution_count": 13,
   "metadata": {
    "collapsed": true
   },
   "outputs": [],
   "source": [
    "from sklearn.cross_validation import cross_val_score, StratifiedKFold"
   ]
  },
  {
   "cell_type": "markdown",
   "metadata": {},
   "source": [
    "Разобьём обучающую выборку на 3 фолда методом stratified k-fold."
   ]
  },
  {
   "cell_type": "code",
   "execution_count": 14,
   "metadata": {
    "collapsed": true
   },
   "outputs": [],
   "source": [
    "skf = StratifiedKFold(y_train, 3, random_state = 0)"
   ]
  },
  {
   "cell_type": "markdown",
   "metadata": {},
   "source": [
    "В качестве модели используем градиентный бустинг (xgboost.XGBClassifier). Подбираем параметр модели learning_rate с помощью кросс-валидации и измеряем AUC-ROC."
   ]
  },
  {
   "cell_type": "code",
   "execution_count": 15,
   "metadata": {
    "collapsed": true
   },
   "outputs": [],
   "source": [
    "import xgboost as xgb\n",
    "from sklearn.grid_search import GridSearchCV"
   ]
  },
  {
   "cell_type": "code",
   "execution_count": 25,
   "metadata": {
    "collapsed": false
   },
   "outputs": [
    {
     "data": {
      "text/plain": [
       "[mean: 0.70851, std: 0.00701, params: {'learning_rate': 0.01},\n",
       " mean: 0.73729, std: 0.00431, params: {'learning_rate': 0.05},\n",
       " mean: 0.74175, std: 0.00272, params: {'learning_rate': 0.1},\n",
       " mean: 0.73626, std: 0.00247, params: {'learning_rate': 0.2}]"
      ]
     },
     "execution_count": 25,
     "metadata": {},
     "output_type": "execute_result"
    }
   ],
   "source": [
    "param_grid = {'learning_rate': [0.01, 0.05, 0.1, 0.2]}\n",
    "optimizer = GridSearchCV(xgb.XGBClassifier(), param_grid, scoring = 'roc_auc', cv = skf)\n",
    "optimizer.fit(X_train, y_train)\n",
    "optimizer.grid_scores_"
   ]
  },
  {
   "cell_type": "code",
   "execution_count": 26,
   "metadata": {
    "collapsed": false
   },
   "outputs": [
    {
     "data": {
      "text/plain": [
       "{'learning_rate': 0.1}"
      ]
     },
     "execution_count": 26,
     "metadata": {},
     "output_type": "execute_result"
    }
   ],
   "source": [
    "optimizer.best_params_"
   ]
  },
  {
   "cell_type": "markdown",
   "metadata": {},
   "source": [
    "Видим, что оптимальным параметром является learning_rate = 0.1. Средний AUC-ROC для него равен 0.74175."
   ]
  },
  {
   "cell_type": "markdown",
   "metadata": {},
   "source": [
    "Посчитаем вероятности на тестовой выборке."
   ]
  },
  {
   "cell_type": "code",
   "execution_count": 27,
   "metadata": {
    "collapsed": true
   },
   "outputs": [],
   "source": [
    "probabilities = np.array([x[1] for x in optimizer.predict_proba(X_test)])"
   ]
  },
  {
   "cell_type": "markdown",
   "metadata": {},
   "source": [
    "Запишем результаты в файл."
   ]
  },
  {
   "cell_type": "code",
   "execution_count": 30,
   "metadata": {
    "collapsed": false
   },
   "outputs": [],
   "source": [
    "results = pd.DataFrame({'ID' : range(len(probabilities)), 'result' : probabilities})\n",
    "results.to_csv('results.csv', index = False)"
   ]
  },
  {
   "cell_type": "code",
   "execution_count": null,
   "metadata": {
    "collapsed": true
   },
   "outputs": [],
   "source": []
  }
 ],
 "metadata": {
  "anaconda-cloud": {},
  "kernelspec": {
   "display_name": "Python [conda root]",
   "language": "python",
   "name": "conda-root-py"
  },
  "language_info": {
   "codemirror_mode": {
    "name": "ipython",
    "version": 2
   },
   "file_extension": ".py",
   "mimetype": "text/x-python",
   "name": "python",
   "nbconvert_exporter": "python",
   "pygments_lexer": "ipython2",
   "version": "2.7.12"
  }
 },
 "nbformat": 4,
 "nbformat_minor": 1
}
