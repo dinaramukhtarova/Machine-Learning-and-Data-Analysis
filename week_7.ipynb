{
 "cells": [
  {
   "cell_type": "markdown",
   "metadata": {},
   "source": [
    "# Финальный проект специализации \"Машинное обучение и анализ данных\"\n",
    "## Прогнозирование оттока клиентов\n",
    "*Динара Мухтарова*"
   ]
  },
  {
   "cell_type": "markdown",
   "metadata": {},
   "source": [
    "### Цели и задачи проекта"
   ]
  },
  {
   "cell_type": "markdown",
   "metadata": {},
   "source": [
    "В проекте используются данные французской телекоммуникационной компании Orange. В рамках проекта решается задача прогнозирования оттока пользователей, или churn prediction. Эта задача заключается в прогнозировании вероятности того, что клиент перестанет пользоваться сервисом в течение некоторого заданного заранее промежутка времени, например, решит перейти к конкуренту или откажется от использования услуги данного типа вообще.\n",
    "\n",
    "Цель проекта - научиться находить пользователей, склонных к оттоку. Если научиться находить таких пользователей с достаточной точностью заблаговременно, то можно эффективно управлять оттоком: например, выявлять причины оттока; помогать пользователям, попавшим в группу риска, решать их проблемы и задачи; проводить кампании по удержанию.\n",
    "\n",
    "Для нахождения пользователей, склонных к оттоку, мы строим прогнозную модель - модель, позволяющую прогнозировать вероятность того, что пользователь покинет сервис. Конкретно мы строим вероятностную модель бинарной классификации, где целевой класс представляют собой пользователи, покидающие сервис. Вероятность того, что пользователь принадлежит целевому классу и есть целевая величина - вероятность оттока. Соответственно, чем эта вероятность больше, тем больше шансов, что пользователь откажется от использования нашего сервиса."
   ]
  },
  {
   "cell_type": "markdown",
   "metadata": {},
   "source": [
    "### Методика измерения качества и критерий успеха"
   ]
  },
  {
   "cell_type": "markdown",
   "metadata": {},
   "source": [
    "Модель оценивается на основании метрики AUC-ROC - площади под ROC-кривой. Для тестирования модели мы используем метод кросс-валидации - разбиваем выборку на три блока, каждый из которых по очереди выступает как тестовый. Так как классы в исходной выборке несбалансированы, используем стратификацию - разбиваем выборку так, чтобы в каждом блоке сохранялось соотношение классов. Чем выше показатель AUC-ROC, тем качественнее классификатор, при этом значение 0.5 демонстрирует непригодность выбранного метода классификации (соответствует случайному гаданию)."
   ]
  },
  {
   "cell_type": "markdown",
   "metadata": {
    "collapsed": true
   },
   "source": [
    "### Техническое описание решения "
   ]
  },
  {
   "cell_type": "markdown",
   "metadata": {},
   "source": [
    "Данные, с которыми мы работаем, предоставлены без описания, однако известно, что они состоят из 40 тыс. объектов и включают 230 переменных, из которых первые 190 переменных - числовые, а оставшиеся 40 - категориальные. Ещё одной особенностью нашего набора данных является большое количество пропущенных значений. Прежде чем строить модель, мы сначала предобрабатываем данные: преобразовываем категориальные переменные в числовые, заполняем пропущенные значения и проводим другие преобразования, позволяющие нам улучшить качество модели."
   ]
  },
  {
   "cell_type": "markdown",
   "metadata": {},
   "source": [
    "Загружаем необходимые библиотеки."
   ]
  },
  {
   "cell_type": "code",
   "execution_count": 1,
   "metadata": {
    "collapsed": true
   },
   "outputs": [],
   "source": [
    "import pandas as pd\n",
    "import numpy as np"
   ]
  },
  {
   "cell_type": "markdown",
   "metadata": {},
   "source": [
    "Загружаем данные."
   ]
  },
  {
   "cell_type": "code",
   "execution_count": 2,
   "metadata": {
    "collapsed": false
   },
   "outputs": [],
   "source": [
    "data = pd.read_csv('orange_small_churn_train_data.csv', index_col = 0)"
   ]
  },
  {
   "cell_type": "markdown",
   "metadata": {},
   "source": [
    "Получаем списки числовых и категориальных переменных."
   ]
  },
  {
   "cell_type": "code",
   "execution_count": 3,
   "metadata": {
    "collapsed": true
   },
   "outputs": [],
   "source": [
    "numeric_columns = np.array(data.columns[:190])\n",
    "categorical_columns = np.array(data.columns[190:230])"
   ]
  },
  {
   "cell_type": "markdown",
   "metadata": {},
   "source": [
    "Для построения модели выбираем только те переменные, в которых есть хотя бы одно значение, не равное NaN."
   ]
  },
  {
   "cell_type": "code",
   "execution_count": 4,
   "metadata": {
    "collapsed": true
   },
   "outputs": [],
   "source": [
    "not_null_numeric_columns = np.array(numeric_columns[np.array(pd.notnull(data[numeric_columns]).any())])\n",
    "not_null_categorical_columns = np.array(categorical_columns[np.array(pd.notnull(data[categorical_columns]).any())])"
   ]
  },
  {
   "cell_type": "markdown",
   "metadata": {},
   "source": [
    "Разбиваем данные на числовые, категориальные и целевую переменную - метки классов \"отток\"/\"не отток\"."
   ]
  },
  {
   "cell_type": "code",
   "execution_count": 5,
   "metadata": {
    "collapsed": true
   },
   "outputs": [],
   "source": [
    "X_numeric = data[not_null_numeric_columns]\n",
    "X_categorical = data[not_null_categorical_columns]\n",
    "y = data['labels']"
   ]
  },
  {
   "cell_type": "markdown",
   "metadata": {},
   "source": [
    "Заполняем пропущенные числовые значения средними по столбцам, а пропущенные категориальные - строкой 'NA'."
   ]
  },
  {
   "cell_type": "code",
   "execution_count": 6,
   "metadata": {
    "collapsed": true
   },
   "outputs": [],
   "source": [
    "X_numeric = X_numeric.fillna(X_numeric.mean(0), axis = 0)\n",
    "X_categorical = X_categorical.fillna('NA')"
   ]
  },
  {
   "cell_type": "markdown",
   "metadata": {},
   "source": [
    "Кодируем категориальные признаки частотами: каждую категорию преобразуем в число раз, которое она встречалась в данном признаке."
   ]
  },
  {
   "cell_type": "code",
   "execution_count": 7,
   "metadata": {
    "collapsed": true
   },
   "outputs": [],
   "source": [
    "for var in not_null_categorical_columns:\n",
    "    value_counts = X_categorical[var].value_counts()\n",
    "    X_categorical[var] = np.array([value_counts[x] for x in X_categorical[var]])"
   ]
  },
  {
   "cell_type": "markdown",
   "metadata": {},
   "source": [
    "Объединяем числовые и категориальные данные."
   ]
  },
  {
   "cell_type": "code",
   "execution_count": 8,
   "metadata": {
    "collapsed": true
   },
   "outputs": [],
   "source": [
    "X = pd.concat([X_numeric, X_categorical], axis = 1)"
   ]
  },
  {
   "cell_type": "markdown",
   "metadata": {},
   "source": [
    "Для построения модели используем градиентный бустинг, реализацию `xgboost.XGBClassifier`. Обучаем модель на наших данных."
   ]
  },
  {
   "cell_type": "code",
   "execution_count": 9,
   "metadata": {
    "collapsed": false
   },
   "outputs": [
    {
     "data": {
      "text/plain": [
       "XGBClassifier(base_score=0.5, colsample_bylevel=1, colsample_bytree=1,\n",
       "       gamma=0, learning_rate=0.1, max_delta_step=0, max_depth=3,\n",
       "       min_child_weight=1, missing=None, n_estimators=100, nthread=-1,\n",
       "       objective='binary:logistic', reg_alpha=0, reg_lambda=1,\n",
       "       scale_pos_weight=1, seed=0, silent=True, subsample=1)"
      ]
     },
     "execution_count": 9,
     "metadata": {},
     "output_type": "execute_result"
    }
   ],
   "source": [
    "import xgboost as xgb\n",
    "xgb_clf = xgb.XGBClassifier()\n",
    "xgb_clf.fit(X, y)"
   ]
  },
  {
   "cell_type": "markdown",
   "metadata": {},
   "source": [
    "### Выводы о качестве модели"
   ]
  },
  {
   "cell_type": "markdown",
   "metadata": {},
   "source": [
    "Оцениваем качество с помощью кросс-валидации и считаем среднюю AUC-ROC."
   ]
  },
  {
   "cell_type": "code",
   "execution_count": 10,
   "metadata": {
    "collapsed": false
   },
   "outputs": [
    {
     "name": "stdout",
     "output_type": "stream",
     "text": [
      "Средняя AUC-ROC:  0.744447036908\n"
     ]
    }
   ],
   "source": [
    "from sklearn.model_selection import cross_val_score, StratifiedKFold\n",
    "scores = cross_val_score(xgb.XGBClassifier(), X, y, scoring = 'roc_auc', cv = StratifiedKFold(3))\n",
    "print 'Средняя AUC-ROC: ', scores.mean()"
   ]
  },
  {
   "cell_type": "markdown",
   "metadata": {},
   "source": [
    "Видим, что средняя AUC-ROC равна 0.74. Это означает, что модель работает существенно лучше, чем случайное угадывание."
   ]
  },
  {
   "cell_type": "markdown",
   "metadata": {},
   "source": [
    "Строим кривые обучения - постепенно наращиваем размер обучающей выборки и смотрим, как меняется качество на обучающей и тестовой выборках."
   ]
  },
  {
   "cell_type": "code",
   "execution_count": 11,
   "metadata": {
    "collapsed": false
   },
   "outputs": [
    {
     "data": {
      "image/png": "[encoded data removed]",
      "text/plain": [
       "<matplotlib.figure.Figure at 0x11be45f10>"
      ]
     },
     "metadata": {},
     "output_type": "display_data"
    }
   ],
   "source": [
    "from sklearn.model_selection import learning_curve\n",
    "import matplotlib.pyplot as plt\n",
    "%matplotlib inline\n",
    "train_sizes_abs, train_scores, test_scores = learning_curve(xgb.XGBClassifier(), X, y, cv = StratifiedKFold(3),\n",
    "                                                            scoring = 'roc_auc')\n",
    "train_scores_mean = np.mean(train_scores, axis = 1)\n",
    "test_scores_mean = np.mean(test_scores, axis = 1)\n",
    "plt.figure()\n",
    "plt.xlabel('Training examples')\n",
    "plt.ylabel('Score')\n",
    "plt.grid()\n",
    "plt.plot(train_sizes_abs, train_scores_mean, 'o-', color = 'r', label = 'Training score')\n",
    "plt.plot(train_sizes_abs, test_scores_mean, 'o-', color = 'g', label = 'Cross-validation score')\n",
    "plt.legend(loc = 'best')\n",
    "plt.show()"
   ]
  },
  {
   "cell_type": "markdown",
   "metadata": {},
   "source": [
    "Видим, что с увеличением размера данных качество на тестовой выборке (Cross-validation score) увеличивается, а на обучающей (Training score) сокращается. Значит, в дальнейшем можно пробовать наращивать размер данных для увеличения качества."
   ]
  },
  {
   "cell_type": "markdown",
   "metadata": {},
   "source": [
    "Перечисляем двадцать лучших признаков и считаем вклад каждого из них в модель."
   ]
  },
  {
   "cell_type": "code",
   "execution_count": 12,
   "metadata": {
    "collapsed": false
   },
   "outputs": [
    {
     "data": {
      "text/html": [
       "<div>\n",
       "<table border=\"1\" class=\"dataframe\">\n",
       "  <thead>\n",
       "    <tr style=\"text-align: right;\">\n",
       "      <th></th>\n",
       "      <th>feature</th>\n",
       "      <th>feature_importance</th>\n",
       "    </tr>\n",
       "  </thead>\n",
       "  <tbody>\n",
       "    <tr>\n",
       "      <th>0</th>\n",
       "      <td>Var126</td>\n",
       "      <td>0.144105</td>\n",
       "    </tr>\n",
       "    <tr>\n",
       "      <th>1</th>\n",
       "      <td>Var217</td>\n",
       "      <td>0.069869</td>\n",
       "    </tr>\n",
       "    <tr>\n",
       "      <th>2</th>\n",
       "      <td>Var189</td>\n",
       "      <td>0.059680</td>\n",
       "    </tr>\n",
       "    <tr>\n",
       "      <th>3</th>\n",
       "      <td>Var199</td>\n",
       "      <td>0.058224</td>\n",
       "    </tr>\n",
       "    <tr>\n",
       "      <th>4</th>\n",
       "      <td>Var192</td>\n",
       "      <td>0.053857</td>\n",
       "    </tr>\n",
       "    <tr>\n",
       "      <th>5</th>\n",
       "      <td>Var113</td>\n",
       "      <td>0.046579</td>\n",
       "    </tr>\n",
       "    <tr>\n",
       "      <th>6</th>\n",
       "      <td>Var73</td>\n",
       "      <td>0.046579</td>\n",
       "    </tr>\n",
       "    <tr>\n",
       "      <th>7</th>\n",
       "      <td>Var81</td>\n",
       "      <td>0.040757</td>\n",
       "    </tr>\n",
       "    <tr>\n",
       "      <th>8</th>\n",
       "      <td>Var74</td>\n",
       "      <td>0.034934</td>\n",
       "    </tr>\n",
       "    <tr>\n",
       "      <th>9</th>\n",
       "      <td>Var57</td>\n",
       "      <td>0.032023</td>\n",
       "    </tr>\n",
       "    <tr>\n",
       "      <th>10</th>\n",
       "      <td>Var28</td>\n",
       "      <td>0.021834</td>\n",
       "    </tr>\n",
       "    <tr>\n",
       "      <th>11</th>\n",
       "      <td>Var153</td>\n",
       "      <td>0.018923</td>\n",
       "    </tr>\n",
       "    <tr>\n",
       "      <th>12</th>\n",
       "      <td>Var226</td>\n",
       "      <td>0.017467</td>\n",
       "    </tr>\n",
       "    <tr>\n",
       "      <th>13</th>\n",
       "      <td>Var212</td>\n",
       "      <td>0.016012</td>\n",
       "    </tr>\n",
       "    <tr>\n",
       "      <th>14</th>\n",
       "      <td>Var168</td>\n",
       "      <td>0.014556</td>\n",
       "    </tr>\n",
       "    <tr>\n",
       "      <th>15</th>\n",
       "      <td>Var197</td>\n",
       "      <td>0.014556</td>\n",
       "    </tr>\n",
       "    <tr>\n",
       "      <th>16</th>\n",
       "      <td>Var140</td>\n",
       "      <td>0.014556</td>\n",
       "    </tr>\n",
       "    <tr>\n",
       "      <th>17</th>\n",
       "      <td>Var205</td>\n",
       "      <td>0.013100</td>\n",
       "    </tr>\n",
       "    <tr>\n",
       "      <th>18</th>\n",
       "      <td>Var218</td>\n",
       "      <td>0.013100</td>\n",
       "    </tr>\n",
       "    <tr>\n",
       "      <th>19</th>\n",
       "      <td>Var45</td>\n",
       "      <td>0.011645</td>\n",
       "    </tr>\n",
       "  </tbody>\n",
       "</table>\n",
       "</div>"
      ],
      "text/plain": [
       "   feature  feature_importance\n",
       "0   Var126            0.144105\n",
       "1   Var217            0.069869\n",
       "2   Var189            0.059680\n",
       "3   Var199            0.058224\n",
       "4   Var192            0.053857\n",
       "5   Var113            0.046579\n",
       "6    Var73            0.046579\n",
       "7    Var81            0.040757\n",
       "8    Var74            0.034934\n",
       "9    Var57            0.032023\n",
       "10   Var28            0.021834\n",
       "11  Var153            0.018923\n",
       "12  Var226            0.017467\n",
       "13  Var212            0.016012\n",
       "14  Var168            0.014556\n",
       "15  Var197            0.014556\n",
       "16  Var140            0.014556\n",
       "17  Var205            0.013100\n",
       "18  Var218            0.013100\n",
       "19   Var45            0.011645"
      ]
     },
     "execution_count": 12,
     "metadata": {},
     "output_type": "execute_result"
    }
   ],
   "source": [
    "features = pd.DataFrame({'feature' : X.columns, 'feature_importance' : xgb_clf.feature_importances_})\n",
    "features.sort_values('feature_importance', ascending = False).reset_index(drop = True)[:20]"
   ]
  },
  {
   "cell_type": "markdown",
   "metadata": {},
   "source": [
    "Видим, что наибольший вклад в модель внесли признаки Var126, Var217, Var189. Замыкает топ-20 признак Var45."
   ]
  },
  {
   "cell_type": "markdown",
   "metadata": {},
   "source": [
    "### Ожидаемый экономический эффект от использования модели"
   ]
  },
  {
   "cell_type": "markdown",
   "metadata": {},
   "source": [
    "Для подсчёта экономического эффекта от использования модели вводим следующие параметры:\n",
    "- количество денег, которое в среднем приносит один пользователь в месяц (arpu)\n",
    "- количество денег, которое в среднем мы будем вкладывать в удержание одного пользователя (retention cost)\n",
    "- вероятность, с которой пользователь примет наше предложение (probability)\n",
    "- топ % пользователей, склонных к оттоку согласно модели, которые будут участвовать в кампании (top)\n",
    "- количество времени, на которое нам в среднем удастся удержать клиента, если он примет наше предложение, в месяцах (time)"
   ]
  },
  {
   "cell_type": "markdown",
   "metadata": {},
   "source": [
    "Экономический эффект зависит от того, насколько качественная наша модель. Выбираем только тех пользователей, которых наша модель предсказала как склонных к оттоку, и записывам в переменную `true_values` настоящие ответы на этих пользователях."
   ]
  },
  {
   "cell_type": "code",
   "execution_count": 13,
   "metadata": {
    "collapsed": true
   },
   "outputs": [],
   "source": [
    "y_predictions = xgb_clf.predict(X)\n",
    "y_probabilities = xgb_clf.predict_proba(X)[:, 1]\n",
    "labels = pd.DataFrame({'prediction' : y_predictions, 'probability' : y_probabilities, 'true_value' : np.array(y)})\n",
    "churn_predicted = labels[labels.prediction == 1].sort_values('probability', ascending = False).reset_index(drop = True)\n",
    "true_values = np.array(churn_predicted.true_value)"
   ]
  },
  {
   "cell_type": "markdown",
   "metadata": {},
   "source": [
    "Определяем функцию для подсчёта экономического эффекта в зависимости от исходных параметров."
   ]
  },
  {
   "cell_type": "code",
   "execution_count": 14,
   "metadata": {
    "collapsed": true
   },
   "outputs": [],
   "source": [
    "def effect(arpu, retention_cost, probability, top, time):\n",
    "    number_of_users = int(np.floor(top/100. * len(true_values)))\n",
    "    number_of_churned = sum(true_values[:number_of_users] == 1)\n",
    "    number_of_accepted = int(np.floor(probability * number_of_churned))\n",
    "    cost = number_of_users * retention_cost\n",
    "    income = number_of_accepted * arpu * time\n",
    "    return income - cost"
   ]
  },
  {
   "cell_type": "markdown",
   "metadata": {},
   "source": [
    "Фиксируем параметры arpu = 1000, retention cost = 100, probability = 0.3, time = 3 и строим график изменения экономического эффекта в зависимости от параметра top."
   ]
  },
  {
   "cell_type": "code",
   "execution_count": 15,
   "metadata": {
    "collapsed": false
   },
   "outputs": [
    {
     "data": {
      "image/png": "[encoded data removed]",
      "text/plain": [
       "<matplotlib.figure.Figure at 0x11be45c10>"
      ]
     },
     "metadata": {},
     "output_type": "display_data"
    }
   ],
   "source": [
    "tops = np.arange(1, 101)\n",
    "effects = np.array([effect(1000, 100, 0.3, top, 3) for top in tops])\n",
    "plt.figure()\n",
    "plt.xlabel('Top')\n",
    "plt.ylabel('Economic effect')\n",
    "plt.grid()\n",
    "plt.plot(tops, effects)\n",
    "plt.show()"
   ]
  },
  {
   "cell_type": "markdown",
   "metadata": {},
   "source": [
    "Видим, что чем больше топ пользователей, который мы берём, тем в среднем выше экономический эффект. Это говорит о том, что модель качественная. Считаем оптимальный топ пользователей при таких параметрах и экономический эффект при нём."
   ]
  },
  {
   "cell_type": "code",
   "execution_count": 16,
   "metadata": {
    "collapsed": false
   },
   "outputs": [
    {
     "name": "stdout",
     "output_type": "stream",
     "text": [
      "Оптимальный топ:  99\n",
      "Экономический эффект:  36300\n"
     ]
    }
   ],
   "source": [
    "index = np.argsort(effects)[-1]\n",
    "print 'Оптимальный топ: ', tops[index]\n",
    "print 'Экономический эффект: ', effects[index]"
   ]
  },
  {
   "cell_type": "markdown",
   "metadata": {},
   "source": [
    "### Дальнейшие предложения"
   ]
  },
  {
   "cell_type": "markdown",
   "metadata": {},
   "source": [
    "1. Для оценки качества работы модели в продакшн можно использовать A/B-тестирование. Для этого нужно разбить всех пользователей на два сегмента: контрольный сегмент A (где мы используем старую модель прогнозирования оттока или не используем никакую модель вообще) и тестовый сегмент B (где мы используем нашу новую модель), и сравнить уровни оттока у этих двух сегментов. Если уровень оттока у сегмента B меньше, чем у сегмента A, и отличие статистически значимо, то мы можем сказать, что наша модель работает.\n",
    "2. Для того, чтобы повышать качество работы модели, нужно дообучать её на новых данных. Также можно пробовать изменять саму модель - использовать новые алгоритмы, отбирать признаки, искать аномалии в данных и т.д.\n",
    "3. Нужно следить за тем, чтобы модель всегда оставалась актуальной, - со временем могут появиться новые услуги, а старые исчезнуть, и наши данные устареют.\n",
    "4. Можно пробовать формировать гипотезы относительно причин оттока пользователей, и на основании этого принимать меры по удержанию."
   ]
  },
  {
   "cell_type": "markdown",
   "metadata": {},
   "source": [
    "### Итог"
   ]
  },
  {
   "cell_type": "markdown",
   "metadata": {},
   "source": [
    "Построена модель, позволяющая прогнозировать вероятность того, что пользователь покинет сервис. В дальнейшем эти данные можно использовать для выявления пользователей, склонных к оттоку, и принимать меры по их удержанию."
   ]
  },
  {
   "cell_type": "code",
   "execution_count": null,
   "metadata": {
    "collapsed": true
   },
   "outputs": [],
   "source": []
  }
 ],
 "metadata": {
  "anaconda-cloud": {},
  "kernelspec": {
   "display_name": "Python [conda root]",
   "language": "python",
   "name": "conda-root-py"
  },
  "language_info": {
   "codemirror_mode": {
    "name": "ipython",
    "version": 2
   },
   "file_extension": ".py",
   "mimetype": "text/x-python",
   "name": "python",
   "nbconvert_exporter": "python",
   "pygments_lexer": "ipython2",
   "version": "2.7.12"
  }
 },
 "nbformat": 4,
 "nbformat_minor": 1
}
